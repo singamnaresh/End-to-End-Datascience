import requests

url = "http://127.0.0.1:5000"  # Replace this with the actual ngrok URL
data = {"features": [5.1, 3.5, 1.4, 0.2]}
response = requests.post(url, json=data)

# Debugging: Print the response text before calling .json()
print(response.text)

print(response.json())
