
def predict():
    try:
        data = request.get_json()
        print("Received Data:", data)  # Debugging

        if not data or "features" not in data:
            return jsonify({"error": "Invalid input, expected 'features' key"}), 400

        features = np.array(data["features"]).reshape(1, -1)
        prediction = model.predict(features)
        predicted_class = iris.target_names[prediction[0]]

        return jsonify({"prediction": predicted_class})

    except Exception as e:
        return jsonify({"error": str(e)}), 500
